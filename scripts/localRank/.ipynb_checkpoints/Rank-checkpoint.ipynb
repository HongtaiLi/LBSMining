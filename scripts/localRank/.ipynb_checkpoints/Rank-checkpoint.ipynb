{
 "metadata": {
  "name": ""
 },
 "nbformat": 3,
 "nbformat_minor": 0,
 "worksheets": [
  {
   "cells": [
    {
     "cell_type": "code",
     "collapsed": false,
     "input": [
      "import os\n",
      "import numpy as np\n",
      "import pandas as pd\n",
      "from sklearn import svm,cross_validation,linear_model\n",
      "import matplotlib.pyplot as plt\n",
      "\n",
      "def import_data(target_dir):\n",
      "    \n",
      "    file_list = os.listdir(target_dir)\n",
      "    col_names = ['user_id','time','lat','lon','text','v_id','v_name','v_cat','v_address','u_gender']\n",
      "    df_list = [pd.read_csv(target_dir+file,sep='\\t',names=col_names,skipinitialspace=True,encoding='utf-8', lineterminator='\\n') \n",
      "               for file in file_list]\n",
      "    df = pd.concat(df_list)\n",
      "    df = df[np.isfinite(df['user_id'])] #remove users with missing data\n",
      "    \n",
      "    \n",
      "    \n",
      "    \n",
      "    # print df['user_id'].size\n",
      "    #print df.describe()\n",
      "    #print df.head()\n",
      "    return df\n",
      "\n",
      "\n",
      "def get_active_user(df):\n",
      "    grouped_user =  df.groupby('user_id')\n",
      "    user_count = grouped_user.size()\n",
      "    \n",
      "    user_count.sort(ascending=False)\n",
      "    print len(user_count[user_count>100])\n",
      "    \n",
      "    return user_count   \n",
      "def gen_feature_maxtrix():\n",
      "\t\"\"\"\n",
      "\t\tGenerate feature matrix for SVM training\n",
      "\t\"\"\"\n",
      "\t\n",
      "\n",
      "\n",
      "if __name__ == '__main__':\n",
      "    df = import_data('/Users/dingmia/Google Drive/project/movingObject/LocationPrediction/gitRepo/scripts/check_in_nyc/')\n",
      "    user_count =  get_active_user(df)\n",
      "    print user_count"
     ],
     "language": "python",
     "metadata": {},
     "outputs": [
      {
       "ename": "NameError",
       "evalue": "name 'process_data' is not defined",
       "output_type": "pyerr",
       "traceback": [
        "\u001b[0;31m---------------------------------------------------------------------------\u001b[0m\n\u001b[0;31mNameError\u001b[0m                                 Traceback (most recent call last)",
        "\u001b[0;32m<ipython-input-1-35e5ca315c0b>\u001b[0m in \u001b[0;36m<module>\u001b[0;34m()\u001b[0m\n\u001b[1;32m     40\u001b[0m \u001b[0;32mif\u001b[0m \u001b[0m__name__\u001b[0m \u001b[0;34m==\u001b[0m \u001b[0;34m'__main__'\u001b[0m\u001b[0;34m:\u001b[0m\u001b[0;34m\u001b[0m\u001b[0m\n\u001b[1;32m     41\u001b[0m     \u001b[0mdf\u001b[0m \u001b[0;34m=\u001b[0m \u001b[0mimport_data\u001b[0m\u001b[0;34m(\u001b[0m\u001b[0;34m'/Users/dingmia/Google Drive/project/movingObject/LocationPrediction/gitRepo/scripts/check_in_nyc/'\u001b[0m\u001b[0;34m)\u001b[0m\u001b[0;34m\u001b[0m\u001b[0m\n\u001b[0;32m---> 42\u001b[0;31m     \u001b[0muser_count\u001b[0m \u001b[0;34m=\u001b[0m  \u001b[0mprocess_data\u001b[0m\u001b[0;34m(\u001b[0m\u001b[0mdf\u001b[0m\u001b[0;34m)\u001b[0m\u001b[0;34m\u001b[0m\u001b[0m\n\u001b[0m\u001b[1;32m     43\u001b[0m     \u001b[0;32mprint\u001b[0m \u001b[0muser_count\u001b[0m\u001b[0;34m\u001b[0m\u001b[0m\n",
        "\u001b[0;31mNameError\u001b[0m: name 'process_data' is not defined"
       ]
      }
     ],
     "prompt_number": 1
    },
    {
     "cell_type": "code",
     "collapsed": false,
     "input": [
      "user_count"
     ],
     "language": "python",
     "metadata": {},
     "outputs": [],
     "prompt_number": 25
    },
    {
     "cell_type": "code",
     "collapsed": false,
     "input": [],
     "language": "python",
     "metadata": {},
     "outputs": []
    }
   ],
   "metadata": {}
  }
 ]
}