{
 "metadata": {
  "name": ""
 },
 "nbformat": 3,
 "nbformat_minor": 0,
 "worksheets": [
  {
   "cells": [
    {
     "cell_type": "code",
     "collapsed": false,
     "input": [
      "import os\n",
      "import numpy as np\n",
      "import pandas as pd\n",
      "from sklearn import svm,cross_validation,linear_model\n",
      "import matplotlib.pyplot as plt\n",
      "\n",
      "def import_data(target_dir):\n",
      "    \n",
      "    file_list = os.listdir(target_dir)\n",
      "    col_names = ['user_id','time','lat','lon','text','v_id','v_name','v_cat','v_address','u_gender']\n",
      "    df_list = [pd.read_csv(target_dir+file,sep='\\t',names=col_names,skipinitialspace=True,encoding='utf-8', lineterminator='\\n') \n",
      "               for file in file_list]\n",
      "    df = pd.concat(df_list)\n",
      "    df = df[np.isfinite(df['user_id'])] #remove users with missing data\n",
      "    \n",
      "    \n",
      "    \n",
      "    \n",
      "    # print df['user_id'].size\n",
      "    #print df.describe()\n",
      "    #print df.head()\n",
      "    return df\n",
      "\n",
      "\n",
      "def get_active_user(df):\n",
      "    grouped_user =  df.groupby('user_id')\n",
      "    user_count = grouped_user.size()\n",
      "    \n",
      "    user_count.sort(ascending=False)\n",
      "    print len(user_count[user_count>100])\n",
      "    \n",
      "    return user_count   \n",
      "def gen_feature_maxtrix():\n",
      "\t\"\"\"\n",
      "\t\tGenerate feature matrix for SVM training\n",
      "\t\"\"\"\n",
      "\t\n",
      "\n",
      "\n",
      "if __name__ == '__main__':\n",
      "    df = import_data('/Users/dingmia/Google Drive/project/movingObject/LocationPrediction/gitRepo/scripts/check_in_nyc/')\n",
      "    user_count =  get_active_user(df)\n",
      "    print user_count"
     ],
     "language": "python",
     "metadata": {},
     "outputs": [
      {
       "output_type": "stream",
       "stream": "stdout",
       "text": [
        "436\n",
        "user_id\n",
        "214418658    1851\n",
        "109307439    1257\n",
        "338901468    1062\n",
        "14372827      961\n",
        "38209268      803\n",
        "36543482      692\n",
        "37610007      652\n",
        "455222975     618\n",
        "203730976     584\n",
        "558163359     581\n",
        "260528472     565\n",
        "20596121      507\n",
        "14936915      499\n",
        "24822574      493\n",
        "68548440      486\n",
        "...\n",
        "26101043     1\n",
        "26106212     1\n",
        "26114637     1\n",
        "26117893     1\n",
        "26124149     1\n",
        "197257394    1\n",
        "197199591    1\n",
        "26133070     1\n",
        "26137198     1\n",
        "26138708     1\n",
        "26139572     1\n",
        "26144312     1\n",
        "197153235    1\n",
        "26152953     1\n",
        "23590977     1\n",
        "Length: 49823, dtype: int64\n"
       ]
      }
     ],
     "prompt_number": 2
    },
    {
     "cell_type": "code",
     "collapsed": false,
     "input": [
      "user_count"
     ],
     "language": "python",
     "metadata": {},
     "outputs": [],
     "prompt_number": 25
    },
    {
     "cell_type": "code",
     "collapsed": false,
     "input": [],
     "language": "python",
     "metadata": {},
     "outputs": []
    }
   ],
   "metadata": {}
  }
 ]
}