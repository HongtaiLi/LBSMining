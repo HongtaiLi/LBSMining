{
 "metadata": {
  "name": ""
 },
 "nbformat": 3,
 "nbformat_minor": 0,
 "worksheets": [
  {
   "cells": [
    {
     "cell_type": "code",
     "collapsed": false,
     "input": [
      "import sys\n",
      "import os\n",
      "import numpy as np\n",
      "import pandas as pd\n",
      "from sklearn import svm,cross_validation,linear_model\n",
      "from datetime import datetime\n",
      "import matplotlib.pyplot as plt\n",
      "\n",
      "def import_data(target_dir):\n",
      "    \"\"\"\n",
      "    import and do some processing\n",
      "    \"\"\"\n",
      "    file_list = os.listdir(target_dir)\n",
      "    col_names = ['user_id','time','lat','lon','text','v_id','v_name','v_cat','v_address','u_gender']\n",
      "    df_list = [pd.read_csv(target_dir+file,sep='\\t',names=col_names,skipinitialspace=True,encoding='utf-8', lineterminator='\\n') \n",
      "               for file in file_list]\n",
      "    df = pd.concat(df_list)\n",
      "    df = df[np.isfinite(df['user_id'])] #remove users with missing data\n",
      "    df['time'] = df['time'].apply(lambda x : datetime.fromtimestamp(x/1000))  #timestimp to date string\n",
      "    df['user_id'] = df['user_id'].astype(int)\n",
      "    df.set_index(['user_id','time'])\n",
      "    \n",
      "    \n",
      "    # print df['user_id'].size\n",
      "    #print df.describe()\n",
      "    #print df.head()\n",
      "    print df\n",
      "    return df\n",
      "\n",
      "\n"
     ],
     "language": "python",
     "metadata": {},
     "outputs": [],
     "prompt_number": 52
    },
    {
     "cell_type": "code",
     "collapsed": false,
     "input": [
      "def get_active_user(df):\n",
      "    grouped_user =  df.groupby('user_id')\n",
      "    user_count = grouped_user.size()\n",
      "    \n",
      "    user_count.sort(ascending=False)\n",
      "    print len(user_count[user_count>100])\n",
      "    \n",
      "    return user_count\n",
      "\n"
     ],
     "language": "python",
     "metadata": {},
     "outputs": [],
     "prompt_number": 53
    },
    {
     "cell_type": "code",
     "collapsed": false,
     "input": [
      "def test_fun(df):\n",
      "    print df[df['user_id']==68548440].values\n",
      "\n",
      "def gen_feature_maxtrix():\n",
      "\t\"\"\"\n",
      "\t\tGenerate feature matrix for SVM training\n",
      "\t\"\"\"\n",
      "\t\n",
      "\n",
      "\n",
      "# if __name__ == '__main__':\n",
      "#     user_count =  get_active_user(df)\n",
      "#     print test_fun(df)\n",
      "#     print user_count"
     ],
     "language": "python",
     "metadata": {},
     "outputs": [],
     "prompt_number": 54
    },
    {
     "cell_type": "code",
     "collapsed": false,
     "input": [
      "df = import_data('/Users/dingmia/Google Drive/project/movingObject/LocationPrediction/gitRepo/scripts/check_in_nyc/')\n"
     ],
     "language": "python",
     "metadata": {},
     "outputs": [
      {
       "output_type": "stream",
       "stream": "stdout",
       "text": [
        "<class 'pandas.core.frame.DataFrame'>\n",
        "Int64Index: 419512 entries, 0 to 42464\n",
        "Data columns (total 10 columns):\n",
        "user_id      419512  non-null values\n",
        "time         419512  non-null values\n",
        "lat          419512  non-null values\n",
        "lon          419512  non-null values\n",
        "text         419512  non-null values\n",
        "v_id         419512  non-null values\n",
        "v_name       419512  non-null values\n",
        "v_cat        419512  non-null values\n",
        "v_address    419511  non-null values\n",
        "u_gender     419511  non-null values\n",
        "dtypes: datetime64[ns](1), float64(2), int64(1), object(6)\n"
       ]
      },
      {
       "output_type": "stream",
       "stream": "stderr",
       "text": [
        "//anaconda/lib/python2.7/site-packages/pandas/core/config.py:570: DeprecationWarning: height has been deprecated.\n",
        "\n",
        "  warnings.warn(d.msg, DeprecationWarning)\n"
       ]
      }
     ],
     "prompt_number": 55
    },
    {
     "cell_type": "code",
     "collapsed": false,
     "input": [
      "df.head() "
     ],
     "language": "python",
     "metadata": {},
     "outputs": [
      {
       "output_type": "stream",
       "stream": "stderr",
       "text": [
        "//anaconda/lib/python2.7/site-packages/pandas/core/config.py:570: DeprecationWarning: height has been deprecated.\n",
        "\n",
        "  warnings.warn(d.msg, DeprecationWarning)\n",
        "//anaconda/lib/python2.7/site-packages/pandas/core/config.py:570: DeprecationWarning: height has been deprecated.\n",
        "\n",
        "  warnings.warn(d.msg, DeprecationWarning)\n",
        "//anaconda/lib/python2.7/site-packages/pandas/core/config.py:570: DeprecationWarning: height has been deprecated.\n",
        "\n",
        "  warnings.warn(d.msg, DeprecationWarning)\n"
       ]
      },
      {
       "html": [
        "<div style=\"max-height:1000px;max-width:1500px;overflow:auto;\">\n",
        "<table border=\"1\" class=\"dataframe\">\n",
        "  <thead>\n",
        "    <tr style=\"text-align: right;\">\n",
        "      <th></th>\n",
        "      <th>user_id</th>\n",
        "      <th>time</th>\n",
        "      <th>lat</th>\n",
        "      <th>lon</th>\n",
        "      <th>text</th>\n",
        "      <th>v_id</th>\n",
        "      <th>v_name</th>\n",
        "      <th>v_cat</th>\n",
        "      <th>v_address</th>\n",
        "      <th>u_gender</th>\n",
        "    </tr>\n",
        "  </thead>\n",
        "  <tbody>\n",
        "    <tr>\n",
        "      <th>0</th>\n",
        "      <td> 100004595</td>\n",
        "      <td>2012-10-27 22:40:31</td>\n",
        "      <td> 40.760982</td>\n",
        "      <td>-73.963607</td>\n",
        "      <td> I'm at MTA Bus - Q60 (New York, NY) http://t.c...</td>\n",
        "      <td> 4c4f4d8d24edc9b62a5a77bb</td>\n",
        "      <td>               MTA Bus - Q60</td>\n",
        "      <td>            Bus Line</td>\n",
        "      <td>           60th St.</td>\n",
        "      <td>   male</td>\n",
        "    </tr>\n",
        "    <tr>\n",
        "      <th>1</th>\n",
        "      <td> 100026597</td>\n",
        "      <td>2013-01-10 10:27:58</td>\n",
        "      <td> 40.760167</td>\n",
        "      <td>-73.983167</td>\n",
        "      <td> My favorite breakfast for the last time ever (...</td>\n",
        "      <td> 4c9b818cd4b1b1f7927bd935</td>\n",
        "      <td>                    Toasties</td>\n",
        "      <td>      Sandwich Place</td>\n",
        "      <td>     148 W 49th St.</td>\n",
        "      <td> female</td>\n",
        "    </tr>\n",
        "    <tr>\n",
        "      <th>2</th>\n",
        "      <td> 100026597</td>\n",
        "      <td>2013-05-14 11:55:04</td>\n",
        "      <td> 40.749630</td>\n",
        "      <td>-73.988092</td>\n",
        "      <td> Gonna be a loooong day (@ New York State DMV w...</td>\n",
        "      <td> 4aa667c7f964a520d54920e3</td>\n",
        "      <td>          New York State DMV</td>\n",
        "      <td> Government Building</td>\n",
        "      <td> 1293-1311 Broadway</td>\n",
        "      <td> female</td>\n",
        "    </tr>\n",
        "    <tr>\n",
        "      <th>3</th>\n",
        "      <td>  10005632</td>\n",
        "      <td>2013-02-21 13:52:32</td>\n",
        "      <td> 40.761582</td>\n",
        "      <td>-73.977140</td>\n",
        "      <td> About to moderate a panel with Dell and Master...</td>\n",
        "      <td> 4e8b000abe7b5e7d96359401</td>\n",
        "      <td> Brand Innovators Conference</td>\n",
        "      <td>         Event Space</td>\n",
        "      <td>               none</td>\n",
        "      <td>   male</td>\n",
        "    </tr>\n",
        "    <tr>\n",
        "      <th>4</th>\n",
        "      <td>     10006</td>\n",
        "      <td>2012-10-26 21:28:59</td>\n",
        "      <td> 40.765334</td>\n",
        "      <td>-73.983471</td>\n",
        "      <td> I'm at Sugiyama (New York, NY) http://t.co/myj...</td>\n",
        "      <td> 4a4687c1f964a5200ca91fe3</td>\n",
        "      <td>                    Sugiyama</td>\n",
        "      <td> Japanese Restaurant</td>\n",
        "      <td>      251 W 55th St</td>\n",
        "      <td>   male</td>\n",
        "    </tr>\n",
        "  </tbody>\n",
        "</table>\n",
        "</div>"
       ],
       "metadata": {},
       "output_type": "pyout",
       "prompt_number": 56,
       "text": [
        "     user_id                time        lat        lon  \\\n",
        "0  100004595 2012-10-27 22:40:31  40.760982 -73.963607   \n",
        "1  100026597 2013-01-10 10:27:58  40.760167 -73.983167   \n",
        "2  100026597 2013-05-14 11:55:04  40.749630 -73.988092   \n",
        "3   10005632 2013-02-21 13:52:32  40.761582 -73.977140   \n",
        "4      10006 2012-10-26 21:28:59  40.765334 -73.983471   \n",
        "\n",
        "                                                text  \\\n",
        "0  I'm at MTA Bus - Q60 (New York, NY) http://t.c...   \n",
        "1  My favorite breakfast for the last time ever (...   \n",
        "2  Gonna be a loooong day (@ New York State DMV w...   \n",
        "3  About to moderate a panel with Dell and Master...   \n",
        "4  I'm at Sugiyama (New York, NY) http://t.co/myj...   \n",
        "\n",
        "                       v_id                       v_name                v_cat  \\\n",
        "0  4c4f4d8d24edc9b62a5a77bb                MTA Bus - Q60             Bus Line   \n",
        "1  4c9b818cd4b1b1f7927bd935                     Toasties       Sandwich Place   \n",
        "2  4aa667c7f964a520d54920e3           New York State DMV  Government Building   \n",
        "3  4e8b000abe7b5e7d96359401  Brand Innovators Conference          Event Space   \n",
        "4  4a4687c1f964a5200ca91fe3                     Sugiyama  Japanese Restaurant   \n",
        "\n",
        "            v_address u_gender  \n",
        "0            60th St.     male  \n",
        "1      148 W 49th St.   female  \n",
        "2  1293-1311 Broadway   female  \n",
        "3                none     male  \n",
        "4       251 W 55th St     male  "
       ]
      }
     ],
     "prompt_number": 56
    },
    {
     "cell_type": "code",
     "collapsed": false,
     "input": [
      "df['time'].describe()"
     ],
     "language": "python",
     "metadata": {},
     "outputs": [
      {
       "metadata": {},
       "output_type": "pyout",
       "prompt_number": 57,
       "text": [
        "count                  419512\n",
        "unique                 408198\n",
        "first     2012-08-22 17:47:57\n",
        "last      2013-07-01 10:13:31\n",
        "top       2013-03-20 10:11:30\n",
        "freq                        6\n",
        "dtype: object"
       ]
      }
     ],
     "prompt_number": 57
    },
    {
     "cell_type": "code",
     "collapsed": false,
     "input": [],
     "language": "python",
     "metadata": {},
     "outputs": []
    }
   ],
   "metadata": {}
  }
 ]
}